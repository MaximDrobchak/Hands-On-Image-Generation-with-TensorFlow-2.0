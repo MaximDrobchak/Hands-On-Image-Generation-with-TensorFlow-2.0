{
 "cells": [
  {
   "cell_type": "markdown",
   "metadata": {},
   "source": [
    "# StyleGAN\n",
    "Pre-trained model of 256x256 image resolution provided."
   ]
  },
  {
   "cell_type": "code",
   "execution_count": 1,
   "metadata": {},
   "outputs": [
    {
     "name": "stdout",
     "output_type": "stream",
     "text": [
      "Tensorflow 2.2.0\n"
     ]
    }
   ],
   "source": [
    "import tensorflow as tf\n",
    "from tensorflow.keras import Model\n",
    "from tensorflow.keras.layers import Layer, Dense, Input, LeakyReLU, Reshape\n",
    "from tensorflow.keras.layers import UpSampling2D, AveragePooling2D, Flatten, Lambda\n",
    "from tensorflow.keras.models import Sequential, load_model\n",
    "from tensorflow.keras.callbacks import ModelCheckpoint\n",
    "from tensorflow.keras.optimizers import Adam\n",
    "from tensorflow_addons.layers import InstanceNormalization\n",
    "\n",
    "import os\n",
    "import random\n",
    "import math\n",
    "import gdown\n",
    "import warnings\n",
    "import numpy as np\n",
    "import matplotlib.pyplot as plt\n",
    "\n",
    "from glob import glob\n",
    "from functools import partial\n",
    "\n",
    "warnings.filterwarnings('ignore')\n",
    "print(\"Tensorflow\", tf.__version__)\n",
    "from packaging.version import parse as parse_version\n",
    "assert parse_version(tf.__version__) < parse_version(\"2.4.0\"), \\\n",
    "    f\"Please install TensorFlow version 2.3.1 or older. Your current version is {tf.__version__}.\"\n",
    "\n",
    "os.makedirs('./save_images', exist_ok=True)"
   ]
  },
  {
   "cell_type": "code",
   "execution_count": 2,
   "metadata": {},
   "outputs": [
    {
     "name": "stdout",
     "output_type": "stream",
     "text": [
      "INFO:tensorflow:Using MirroredStrategy with devices ('/job:localhost/replica:0/task:0/device:GPU:0', '/job:localhost/replica:0/task:0/device:GPU:1', '/job:localhost/replica:0/task:0/device:GPU:2', '/job:localhost/replica:0/task:0/device:GPU:3')\n",
      "Number of devices: 4\n"
     ]
    }
   ],
   "source": [
    "'''\n",
    "gpus = tf.config.experimental.list_physical_devices('GPU')\n",
    "tf.config.experimental.set_memory_growth(gpus[1], True)\n",
    "tf.config.experimental.set_visible_devices(gpus[1], 'GPU')\n",
    "logical_gpus = tf.config.experimental.list_logical_devices('GPU')\n",
    "print(len(gpus), \"Physical GPUs,\", len(logical_gpus), \"Logical GPU\")\n",
    "'''\n",
    "\n",
    "strategy = tf.distribute.MirroredStrategy()\n",
    "num_devices = strategy.num_replicas_in_sync\n",
    "print('Number of devices: {}'.format(num_devices))\n"
   ]
  },
  {
   "cell_type": "markdown",
   "metadata": {},
   "source": [
    "# Download dataset"
   ]
  },
  {
   "cell_type": "code",
   "execution_count": 3,
   "metadata": {},
   "outputs": [
    {
     "data": {
      "text/plain": [
       "' \\nurl = \"https://drive.google.com/uc?id=17w_hePC1xO2eX83gAAF8ptKC59mTPQiL\" \\ngdown.download(url, \\'celeba_hq.zip\\', quiet=False)\\n!unzip celeba_hq.zip -d ./celeba_hq\\n'"
      ]
     },
     "execution_count": 3,
     "metadata": {},
     "output_type": "execute_result"
    }
   ],
   "source": [
    "''' \n",
    "url = \"https://drive.google.com/uc?id=17w_hePC1xO2eX83gAAF8ptKC59mTPQiL\" \n",
    "gdown.download(url, 'celeba_hq.zip', quiet=False)\n",
    "!unzip celeba_hq.zip -d ./celeba_hq\n",
    "'''"
   ]
  },
  {
   "cell_type": "markdown",
   "metadata": {},
   "source": [
    "## Set image resolution to train, suggest to use 64 for slow GPU"
   ]
  },
  {
   "cell_type": "code",
   "execution_count": 4,
   "metadata": {},
   "outputs": [],
   "source": [
    "def plot_images(images, log2_res, fname=''):    \n",
    "    scales = {2:0.5,\n",
    "             3:1,\n",
    "             4:2,\n",
    "             5:3,\n",
    "             6:4,\n",
    "             7:5,\n",
    "             8:6,\n",
    "             9:7,\n",
    "             10:8}\n",
    "    scale = scales[log2_res]\n",
    "    \n",
    "    grid_col = min(images.shape[0], int(16//scale))\n",
    "    grid_row = 1\n",
    "\n",
    "    f, axarr = plt.subplots(grid_row, grid_col, figsize=(grid_col*scale, grid_row*scale))\n",
    "\n",
    "    for row in range(grid_row):\n",
    "        ax = axarr if grid_row==1 else axarr[row]\n",
    "        for col in range(grid_col):\n",
    "            ax[col].imshow(images[row*grid_col + col])\n",
    "            ax[col].axis('off')\n",
    "    plt.show()\n",
    "    if fname:\n",
    "        print(\"image name\", fname)\n",
    "        f.savefig(fname)"
   ]
  },
  {
   "cell_type": "code",
   "execution_count": 17,
   "metadata": {},
   "outputs": [],
   "source": [
    "class MinibatchStd(Layer): \n",
    "    def __init__(self, group_size=4, epsilon=1e-8): \n",
    "\n",
    "        super(MinibatchStd, self).__init__() \n",
    "        self.epsilon = epsilon \n",
    "        self.group_size = group_size \n",
    "        \n",
    "    def call(self, input_tensor): \n",
    "\n",
    "        n, h, w, c = input_tensor.shape \n",
    "        x = tf.reshape(input_tensor, [self.group_size, -1, h, w, c]) \n",
    "        group_mean, group_var = tf.nn.moments(x, axes=(0), keepdims=False) \n",
    "        group_std = tf.sqrt(group_var + self.epsilon) \n",
    "        avg_std = tf.reduce_mean(group_std, axis=[1,2,3], keepdims=True) \n",
    "        x = tf.tile(avg_std, [self.group_size, h, w, 1]) \n",
    "\n",
    "        return tf.concat([input_tensor, x], axis=-1) \n",
    "    \n",
    "class FadeIn(Layer):\n",
    "    @tf.function\n",
    "    def call(self, input_alpha, a, b):\n",
    "        alpha = tf.reduce_mean(input_alpha)\n",
    "        y = alpha * a + (1. - alpha) * b\n",
    "        return y\n",
    "    \n",
    "def wasserstein_loss(y_true, y_pred):\n",
    "    \n",
    "    return -tf.reduce_mean(y_true * y_pred)\n"
   ]
  },
  {
   "cell_type": "code",
   "execution_count": 18,
   "metadata": {},
   "outputs": [],
   "source": [
    "class ConvBlock(Layer):\n",
    "    def __init__(self, out_channels, kernel=3, gain=2, **kwargs):\n",
    "        super(ConvBlock, self).__init__(kwargs)\n",
    "        self.kernel = kernel\n",
    "        self.out_channels = out_channels\n",
    "        self.gain = gain\n",
    "        self.pad = kernel!=1\n",
    "        \n",
    "    def build(self, input_shape):\n",
    "        self.in_channels = input_shape[-1]\n",
    "\n",
    "        initializer = tf.keras.initializers.RandomNormal(mean=0., stddev=1.)        \n",
    "        self.w = self.add_weight(shape=[self.kernel,\n",
    "                                        self.kernel,\n",
    "                                        self.in_channels,\n",
    "                                        self.out_channels],\n",
    "                                initializer=initializer,\n",
    "                                trainable=True, name='kernel')\n",
    "        \n",
    "        self.b = self.add_weight(shape=(self.out_channels,),\n",
    "                                initializer='zeros',\n",
    "                                trainable=True, name='bias')\n",
    "        \n",
    "        fan_in = self.kernel*self.kernel*self.in_channels\n",
    "        self.scale = tf.sqrt(self.gain/fan_in)\n",
    "        \n",
    "    def call(self, inputs):\n",
    "        if self.pad:\n",
    "            x = tf.pad(inputs, [[0, 0], [1, 1], [1, 1], [0, 0]], mode='REFLECT')\n",
    "        else:\n",
    "            x = inputs\n",
    "        output = tf.nn.conv2d(x, self.scale*self.w, strides=1, padding=\"VALID\") + self.b\n",
    "        return output\n",
    "    \n",
    "class DenseBlock(Layer):\n",
    "    def __init__(self, units, gain=2, lrmul=1, **kwargs):\n",
    "        super(DenseBlock, self).__init__(kwargs)\n",
    "        self.units = units\n",
    "        self.gain = gain\n",
    "        self.lrmul = lrmul\n",
    "        \n",
    "    def build(self, input_shape):\n",
    "        self.in_channels = input_shape[-1]\n",
    "        initializer = tf.keras.initializers.RandomNormal(mean=0., stddev=1./self.lrmul)        \n",
    "        self.w = self.add_weight(shape=[self.in_channels,\n",
    "                                        self.units],\n",
    "                                initializer=initializer,\n",
    "                                trainable=True, name='kernel')\n",
    "        \n",
    "        self.b = self.add_weight(shape=(self.units,),\n",
    "                                initializer='zeros',\n",
    "                                trainable=True, name='bias')\n",
    "        \n",
    "        fan_in = self.in_channels\n",
    "        self.scale = tf.sqrt(self.gain/fan_in)\n",
    "        \n",
    "    @tf.function\n",
    "    def call(self, inputs):\n",
    "        output = tf.add(tf.matmul(inputs, self.scale*self.w), self.b)\n",
    "        return output*self.lrmul\n",
    "    "
   ]
  },
  {
   "cell_type": "code",
   "execution_count": 19,
   "metadata": {},
   "outputs": [],
   "source": [
    "class AddNoise(Layer):\n",
    "        \n",
    "    def build(self, input_shape):\n",
    "        n, h, w, c = input_shape[0]\n",
    "\n",
    "        initializer = tf.keras.initializers.RandomNormal(mean=0., stddev=1.)\n",
    "        self.B = self.add_weight(shape=[1, 1, 1, c],\n",
    "                                initializer=initializer,\n",
    "                                trainable=True, name='kernel')\n",
    "        \n",
    "    def call(self, inputs):\n",
    "        x, noise = inputs\n",
    "        output = x + self.B * noise\n",
    "        return output\n",
    "\n",
    "class AdaIN(Layer):\n",
    "    def __init__(self, gain=1, **kwargs):\n",
    "        super(AdaIN, self).__init__(kwargs)\n",
    "        self.gain = gain\n",
    "        \n",
    "    def build(self, input_shapes):\n",
    "        x_shape = input_shapes[0]\n",
    "        w_shape = input_shapes[1]\n",
    "\n",
    "        self.w_channels = w_shape[-1]\n",
    "        self.x_channels = x_shape[-1]\n",
    "        \n",
    "        self.dense_1 = DenseBlock(self.x_channels, gain=1)\n",
    "        self.dense_2 = DenseBlock(self.x_channels, gain=1)\n",
    "        \n",
    "        \n",
    "    def call(self, inputs):\n",
    "        x, w = inputs\n",
    "        ys = tf.reshape(self.dense_1(w), (-1, 1, 1, self.x_channels))\n",
    "        yb = tf.reshape(self.dense_2(w), (-1, 1, 1, self.x_channels))\n",
    "        \n",
    "        output = ys*x + yb\n",
    "        return output    "
   ]
  },
  {
   "cell_type": "code",
   "execution_count": 20,
   "metadata": {},
   "outputs": [],
   "source": [
    "class StyleGAN(tf.keras.Model):\n",
    "    @staticmethod\n",
    "    def res_to_log2(res):\n",
    "        return int(np.log2(res))\n",
    "    \n",
    "    def __init__(self, z_dim=512, res=64, start_res=4):\n",
    "        super(StyleGAN, self).__init__()\n",
    "        self.z_dim = z_dim\n",
    "        self.res = res\n",
    "        self.start_res = start_res\n",
    "        self.alpha_input = Input(shape=(1))\n",
    "        \n",
    "        self.res_log2 = self.res_to_log2(res)\n",
    "        self.start_res_log2 = self.res_to_log2(start_res)\n",
    "        \n",
    "        self.filter_nums = {\n",
    "            0: 512,\n",
    "            1: 512,\n",
    "            2: 512, # 4x4\n",
    "            3: 512, # 8x8\n",
    "            4: 512, # 16x16\n",
    "            5: 512, # 32x32\n",
    "            6: 256, # 64x64\n",
    "            7: 128, # 128x128\n",
    "            8: 64,  # 256x256\n",
    "            9: 32,  # 512x512\n",
    "            10: 16} # 1024x1024 \n",
    "        \n",
    "        self.g_input_shape = (start_res, start_res, self.filter_nums[self.start_res_log2])\n",
    "        self.g_input = Input(self.g_input_shape)\n",
    "        self.mapping = self.build_mapping()\n",
    "        self.build_generators()\n",
    "        self.build_discriminators()\n",
    "\n",
    "        self.train_step_counter = 0\n",
    "        self.state = 'STABLE'\n",
    "        self.current_res_log2 = self.res_log2       \n",
    "        self.val_z = tf.random.normal((12, self.z_dim))        \n",
    "            \n",
    "    def build_mapping(self):\n",
    "        # Mapping Network\n",
    "        PixelNorm = Lambda(lambda x:x / tf.math.sqrt(tf.reduce_mean(x**2, axis=-1, keepdims=True) + 1e-8))\n",
    "        \n",
    "        z = Input(shape=(self.z_dim))\n",
    "        w = PixelNorm(z)\n",
    "        for i in range(8):\n",
    "            w = DenseBlock(512, lrmul=0.01)(w)\n",
    "            w = LeakyReLU(0.2)(w)\n",
    "        num_stages = self.res_log2 - self.start_res_log2 + 1\n",
    "        w = tf.tile(tf.expand_dims(w, 1), (1, num_stages, 1))\n",
    "        return Model(z, w, name='mapping')\n",
    "\n",
    "    def build_to_rgb(self, res):\n",
    "        filter_n = self.filter_nums[self.res_to_log2(res)]\n",
    "        return Sequential([Input(shape=(res, res, filter_n)),\n",
    "                           ConvBlock(3, 1, gain=1, activation=None,\n",
    "                                  name=f'to_rgb_{res}x{res}_conv')],\n",
    "                         name=f'to_rgb_{res}x{res}')\n",
    "    \n",
    "    def build_from_rgb(self, res):\n",
    "        filter_n = self.filter_nums[self.res_to_log2(res)]        \n",
    "        return Sequential([Input(shape=(res, res, 3)),\n",
    "                           ConvBlock(filter_n, 1,\n",
    "                                  name=f'from_rgb_{res}x{res}_conv'),\n",
    "                           LeakyReLU(0.2)],\n",
    "                         name=f'from_rgb_{res}x{res}')\n",
    "    \n",
    "    def build_g_block(self, res, input_shape):\n",
    "        res_log2 = self.res_to_log2(res)\n",
    "        res_name = f'{res}x{res}'\n",
    "        filter_n = self.filter_nums[res_log2]\n",
    "\n",
    "        input_tensor = Input(shape=input_shape)\n",
    "        x = input_tensor        \n",
    "        w = Input(shape=512)\n",
    "        \n",
    "        noise = Input(shape=(res, res, 1))\n",
    "\n",
    "        if res_log2 > self.start_res_log2:\n",
    "            x = UpSampling2D((2,2))(x)\n",
    "            x = ConvBlock(filter_n, 3, name=f'gen_{res_name}_conv1')(x)\n",
    "\n",
    "        x = AddNoise()([x, noise])\n",
    "        x = LeakyReLU(0.2)(x)\n",
    "        x = InstanceNormalization()(x)\n",
    "        x = AdaIN()([x, w])\n",
    "        \n",
    "        # ADD NOISE\n",
    "        x = ConvBlock(filter_n, 3, name=f'gen_{res_name}_conv2')(x)\n",
    "        x = AddNoise()([x, noise])    \n",
    "        x = LeakyReLU(0.2)(x)\n",
    "        x = InstanceNormalization()(x)      \n",
    "        x = AdaIN()([x, w])\n",
    "\n",
    "        return Model([input_tensor, \n",
    "                      w, \n",
    "                      noise\n",
    "                     ], x, \n",
    "                     name=f'genblock_{res}_x_{res}') \n",
    "\n",
    "    \n",
    "    def build_generators(self):\n",
    "        \n",
    "        self.to_rgb = []\n",
    "        self.g_blocks = []\n",
    "        self.noise_inputs = []\n",
    "        \n",
    "        for res_log2 in range(self.start_res_log2, self.res_log2 + 1):\n",
    "            res = 2**res_log2\n",
    "            self.noise_inputs.append(Input(shape=(res, res, 1), name=f'noise_{res}x{res}'))\n",
    "            self.to_rgb.append(self.build_to_rgb(res))\n",
    "            \n",
    "            if len(self.g_blocks) == 0:\n",
    "                input_shape = self.g_input_shape\n",
    "            else:\n",
    "                input_shape = self.g_blocks[-1].output[0].shape\n",
    "            self.g_blocks.append(\\\n",
    "                self.build_g_block(res, input_shape))\n",
    "\n",
    "    def build_d_block(self, res, input_shape):\n",
    "        res_log2 = self.res_to_log2(res)\n",
    "        filter_n = self.filter_nums[res_log2]       \n",
    "        input_tensor = Input(shape=input_shape)\n",
    "        \n",
    "        # First conv\n",
    "        x = ConvBlock(filter_n, 3)(input_tensor)\n",
    "        x = LeakyReLU(0.2)(x)\n",
    "        \n",
    "        # Second conv + downsample\n",
    "        filter_n = self.filter_nums[res_log2 - 1]\n",
    "        x = ConvBlock(filter_n, 3,)(x)\n",
    "        x = LeakyReLU(0.2)(x)\n",
    "        x = AveragePooling2D((2,2))(x)\n",
    "        \n",
    "        res = 2**res_log2\n",
    "        return Model(input_tensor, x, \n",
    "                     name=f'd_block_{res}_x_{res}') \n",
    "\n",
    "    def build_d_base(self, res, input_shape):\n",
    "        res_name = f'{res}x{res}'\n",
    "        res_log2 = self.res_to_log2(res)\n",
    "        filter_n = self.filter_nums[res_log2]\n",
    "        \n",
    "        input_tensor = Input(shape=input_shape)\n",
    "\n",
    "        x = MinibatchStd()(input_tensor)\n",
    "\n",
    "        x = ConvBlock(filter_n, 3, name=f'd_{res_name}_conv1')(x)\n",
    "        x = LeakyReLU(0.2)(x)\n",
    "        x = Flatten()(x)\n",
    "        \n",
    "        x = Dense(filter_n, name=f'd_{res_name}_dense1')(x)\n",
    "        x = LeakyReLU(0.2)(x)\n",
    "\n",
    "        x = Dense(1, name=f'd_{res_name}_dense2')(x)\n",
    "        \n",
    "        return Model(input_tensor, x, \n",
    "                     name=f'd_base_{res_name}')\n",
    "\n",
    "    def build_discriminators(self):\n",
    "        self.from_rgb = []\n",
    "        self.d_blocks = []\n",
    "        \n",
    "        for res_log2 in range(self.start_res_log2, self.res_log2 + 1):\n",
    "            res = 2**res_log2\n",
    "            self.from_rgb.append(self.build_from_rgb(res))\n",
    "            \n",
    "            filter_n = self.filter_nums[res_log2]\n",
    "            input_shape = (res, res, filter_n)\n",
    "            if len(self.d_blocks) == 0:                \n",
    "                d_block = self.build_d_base(res, input_shape)\n",
    "            else:\n",
    "                d_block = self.build_d_block(res, input_shape)\n",
    "                \n",
    "            self.d_blocks.append(d_block)\n",
    "\n",
    "    def grow_g(self, res):\n",
    "        \n",
    "        res_log2 = self.res_to_log2(res)\n",
    "        num_stages = res_log2 - self.start_res_log2 + 1\n",
    "        w = Input(shape=(self.res_log2 - self.start_res_log2+1, 512), name='w')\n",
    "        for i in range(num_stages):\n",
    "            if i == 0:\n",
    "                x = self.g_input    \n",
    "            \n",
    "            x = self.g_blocks[i]([x, \n",
    "                                 w[:,i], \n",
    "                                 self.noise_inputs[i]])\n",
    "                \n",
    "        old_rgb = self.to_rgb[i](x)\n",
    "        i+=1\n",
    "        # if first stage, no need to do fade in\n",
    "        if i == num_stages:\n",
    "            rgb = old_rgb\n",
    "        else:\n",
    "            # Continue for other stages\n",
    "            old_rgb = UpSampling2D((2,2))(old_rgb)\n",
    "            new_rgb = self.to_rgb[i](x)\n",
    "            rgb = FadeIn()(self.alpha_input, new_rgb, old_rgb)\n",
    "        \n",
    "        self.generator = Model([self.g_input,\n",
    "                                w,\n",
    "                                self.alpha_input,\n",
    "                                self.noise_inputs[:i]], \n",
    "                                rgb, \n",
    "                        name=f'generator_{res}_x_{res}')         \n",
    "            \n",
    "    def grow_d(self, res):\n",
    "\n",
    "        res_log2 = self.res_to_log2(res)\n",
    "        idx = res_log2 - self.start_res_log2\n",
    "\n",
    "        input_image = Input(shape=(res, res, 3), name='input_image')\n",
    "        alpha = Input(shape=(1), name='alpha')\n",
    "        \n",
    "        x = self.from_rgb[idx](input_image)\n",
    "        x = self.d_blocks[idx](x)        \n",
    "        if idx > 0 :  \n",
    "            idx -= 1\n",
    "            downsized_image = AveragePooling2D((2,2))(input_image)\n",
    "            y = self.from_rgb[idx](downsized_image)            \n",
    "            x = FadeIn()(alpha, x, y)\n",
    "            for i in range (idx, -1, -1):\n",
    "                x = self.d_blocks[i](x)\n",
    "            \n",
    "        self.discriminator =  Model([input_image, alpha], x,\n",
    "                     name=f'discriminator_{res}_x_{res}')\n",
    "        \n",
    "    def grow_model(self, res):\n",
    "        tf.keras.backend.clear_session()\n",
    "        res_log2 = self.res_to_log2(res)\n",
    "        self.current_res_log2 = res_log2\n",
    "        print(f\"Growing model to {res}x{res}\")\n",
    "    \n",
    "        self.grow_g(res)\n",
    "        self.grow_d(res)\n",
    "\n",
    "        pred = self.discriminator([self.generator.output, \n",
    "                                   self.generator.input[2]])\n",
    "        \n",
    "    def compile(self, d_optimizer, g_optimizer, steps_per_epoch, state, start_res=None,\n",
    "                *args, **kwargs):\n",
    "        super(StyleGAN, self).compile(*args, **kwargs)        \n",
    "        self.d_optimizer = d_optimizer\n",
    "        self.g_optimizer = g_optimizer\n",
    "        self.steps_per_epoch = steps_per_epoch\n",
    "        if start_res is None:\n",
    "            start_res = self.start_res\n",
    "        self.grow_model(start_res)\n",
    "        self.train_step_counter = 0\n",
    "        self.state = state\n",
    "            \n",
    "    def generate_noise(self, batch_size):\n",
    "        noise = [tf.random.normal((batch_size, 2**res, 2**res, 1)) \\\n",
    "                 for res in range(self.start_res_log2, self.res_log2+1)]\n",
    "        return noise\n",
    "    \n",
    "    def gradient_loss(self, grad):\n",
    "        loss = tf.square(grad)\n",
    "        loss = tf.reduce_sum(loss, axis=np.arange(1,len(loss.shape)))\n",
    "        loss = tf.sqrt(loss)\n",
    "        loss = tf.reduce_mean(tf.square(loss - 1))\n",
    "        self.penalty_const = 10\n",
    "        loss = self.penalty_const * loss\n",
    "        return loss\n",
    "    \n",
    "    def train_step_d(self, real_images, alpha):\n",
    "        ''' \n",
    "        Train discriminator with WGAN_GP loss\n",
    "        '''\n",
    "        batch_size = tf.shape(real_images)[0]\n",
    "        const_input = tf.ones(tuple([batch_size]+list(self.g_input_shape)))\n",
    "        noise = self.generate_noise(batch_size)\n",
    "        \n",
    "        real_labels = tf.ones(batch_size)\n",
    "        fake_labels = -tf.ones(batch_size)\n",
    "        \n",
    "        z = tf.random.normal((batch_size, self.z_dim))        \n",
    "        w = self.mapping(z)\n",
    "        fake_images = self.generator([const_input, w, alpha, noise])\n",
    "        \n",
    "        with tf.GradientTape() as gradient_tape,\\\n",
    "             tf.GradientTape() as total_tape:            \n",
    "            # forward pass\n",
    "            pred_fake = self.discriminator([fake_images, alpha])\n",
    "            pred_real = self.discriminator([real_images, alpha])\n",
    "                  \n",
    "            epsilon = tf.random.uniform((batch_size,1,1,1))\n",
    "            interpolates = epsilon*real_images + (1-epsilon)*fake_images\n",
    "            gradient_tape.watch(interpolates)\n",
    "            pred_fake_grad = self.discriminator([interpolates, alpha])\n",
    "            \n",
    "            # calculate losses\n",
    "            loss_fake = wasserstein_loss(fake_labels, pred_fake)\n",
    "            loss_real = wasserstein_loss(real_labels, pred_real)\n",
    "            loss_fake_grad = wasserstein_loss(fake_labels, pred_fake_grad)\n",
    "            \n",
    "            # gradient penalty      \n",
    "            gradients_fake = gradient_tape.gradient(loss_fake_grad, [interpolates])\n",
    "            gradient_penalty = self.gradient_loss(gradients_fake)\n",
    "     \n",
    "            # drift loss\n",
    "            all_pred = tf.concat([pred_fake, pred_real], axis=0)\n",
    "            drift_loss = 0.001 * tf.reduce_mean(all_pred**2)\n",
    "            \n",
    "            total_loss = loss_fake + loss_real + gradient_penalty + drift_loss\n",
    "\n",
    "\n",
    "        # train discriminator\n",
    "        gradients = total_tape.gradient(total_loss, self.discriminator.trainable_weights)            \n",
    "        self.d_optimizer.apply_gradients(zip(gradients, self.discriminator.trainable_weights))\n",
    "\n",
    "\n",
    "        return total_loss\n",
    "    \n",
    "    def train_step_g(self, real_images, alpha):\n",
    "        batch_size = tf.shape(real_images)[0]\n",
    "        real_labels = tf.ones(batch_size)\n",
    "        \n",
    "        z = tf.random.normal((batch_size, self.z_dim))\n",
    "        w = self.mapping(z)\n",
    "        const_input = tf.ones(tuple([batch_size]+list(self.g_input_shape)))\n",
    "        noise = self.generate_noise(batch_size)\n",
    "\n",
    "        with tf.GradientTape() as g_tape:\n",
    "            fake_images = self.generator([const_input, w, alpha, noise])\n",
    "            pred_fake = self.discriminator([fake_images, alpha])\n",
    "            g_loss = wasserstein_loss(real_labels, pred_fake)\n",
    "            \n",
    "        gradients = g_tape.gradient(g_loss, self.generator.trainable_weights)\n",
    "        self.g_optimizer.apply_gradients(zip(gradients, self.generator.trainable_weights))\n",
    "                        \n",
    "        return g_loss\n",
    "        \n",
    "    def train_step(self, data):\n",
    "        self.train_step_counter += 1\n",
    "        if self.state == 'TRANSITION':\n",
    "            alpha = np.array([[self.train_step_counter/self.steps_per_epoch]])\n",
    "        elif self.state == 'STABLE':\n",
    "            alpha = np.array([[1.]])\n",
    "        else:\n",
    "            raise NotImplementedError\n",
    "                    \n",
    "        d_loss = self.train_step_d(data, alpha)\n",
    "        g_loss = self.train_step_g(data, alpha)\n",
    "        return {'d_loss':d_loss, 'g_loss':g_loss}\n",
    "\n",
    "    def call(self, inputs):\n",
    "        pass\n",
    "    \n",
    "    def create(self, z=None, noise=None, batch_size=1):\n",
    "        if z is None:\n",
    "            z = tf.random.normal((batch_size, self.z_dim))\n",
    "        \n",
    "        style_code = self.mapping(z)\n",
    "            \n",
    "        if noise is None:\n",
    "            noise = self.generate_noise(batch_size)\n",
    "        else:\n",
    "            assert len(noise) == batch_size\n",
    "\n",
    "        const_input = tf.ones(tuple([batch_size]+list(self.g_input_shape)))        \n",
    "        alpha = np.array([[1.]])\n",
    "        images = self.generator([const_input, style_code, alpha, noise])\n",
    "        images = np.clip((images*0.5 + 0.5)*255, 0, 255).astype(np.uint8)\n",
    "\n",
    "        return images\n",
    "\n",
    "\n",
    "class CustomCallback(tf.keras.callbacks.Callback):\n",
    "    def on_epoch_end(self, epoch, logs=None):\n",
    "        \n",
    "        images = self.model.create(z=self.model.val_z)\n",
    "        res = 2**self.model.current_res_log2\n",
    "        prefix = f'res_{res}x{res}_{self.model.state}'\n",
    "        plot_images(images, self.model.current_res_log2, f\"./save_images/{prefix}.jpg\")        \n",
    "        "
   ]
  },
  {
   "cell_type": "code",
   "execution_count": 23,
   "metadata": {},
   "outputs": [],
   "source": [
    "def load(res, image_file):\n",
    "    image = tf.io.read_file(image_file)\n",
    "    image = tf.image.decode_jpeg(image)\n",
    "    image = tf.image.resize(image, [res, res],\n",
    "                            method=tf.image.ResizeMethod.NEAREST_NEIGHBOR)\n",
    "    image = tf.cast(image, tf.float32)\n",
    "    image = (image /127.5) - 1\n",
    "    return image\n",
    "\n",
    "BATCH_SIZE = {2: 16, 3: 16, 4: 16, 5: 16, 6: 16, 7: 8, 8: 4, 9: 4, 10:4}\n",
    "TRAIN_STEP_RATIO = {k: BATCH_SIZE[2]/v for k, v in BATCH_SIZE.items()}\n",
    "\n",
    "def create_dataset_(data_path, res):\n",
    "    res_log2 = int(np.log2(res))\n",
    "    BUFFER_SIZE = 200\n",
    "    images = glob(data_path)\n",
    "    random.shuffle(images)\n",
    "    tf_list = tf.data.Dataset.from_tensor_slices(images)\n",
    "    dataset = tf_list.map(partial(load, res),  num_parallel_calls= tf.data.experimental.AUTOTUNE)\n",
    "    dataset = dataset.shuffle(BUFFER_SIZE).batch(BATCH_SIZE[res_log2], drop_remainder=True).repeat()\n",
    "    return dataset\n",
    "\n",
    "DATA_PATH = \"celeba_hq/train/**/*.jpg\"\n",
    "create_dataset = partial(create_dataset_, DATA_PATH)\n",
    "    "
   ]
  },
  {
   "cell_type": "code",
   "execution_count": null,
   "metadata": {},
   "outputs": [
    {
     "name": "stdout",
     "output_type": "stream",
     "text": [
      "Growing model to 4x4\n",
      " 9999/10000 [============================>.] - ETA: 0s - d_loss: -6.3732 - g_loss: 5.2655"
     ]
    },
    {
     "data": {
      "image/png": "[encoded data removed]",
      "text/plain": [
       "<Figure size 432x36 with 12 Axes>"
      ]
     },
     "metadata": {
      "needs_background": "light"
     },
     "output_type": "display_data"
    },
    {
     "name": "stdout",
     "output_type": "stream",
     "text": [
      "image name ./save_images/res_4x4_1.jpg\n",
      "\n",
      "Epoch 00001: saving model to ./ckpts/stylegan_4x4_STABLE.ckpt\n",
      "10000/10000 [==============================] - 148s 15ms/step - d_loss: -6.3727 - g_loss: 5.2649\n",
      "Growing model to 8x8\n",
      " 9999/10000 [============================>.] - ETA: 0s - d_loss: -6.2086 - g_loss: 3.8983"
     ]
    },
    {
     "data": {
      "image/png": "[encoded data removed]",
      "text/plain": [
       "<Figure size 864x72 with 12 Axes>"
      ]
     },
     "metadata": {
      "needs_background": "light"
     },
     "output_type": "display_data"
    },
    {
     "name": "stdout",
     "output_type": "stream",
     "text": [
      "image name ./save_images/res_8x8_0.jpg\n",
      "\n",
      "Epoch 00001: saving model to ./ckpts/stylegan_8x8_TRANSITION.ckpt\n",
      "10000/10000 [==============================] - 340s 34ms/step - d_loss: -6.2082 - g_loss: 3.8975\n",
      "Growing model to 8x8\n",
      " 9999/10000 [============================>.] - ETA: 0s - d_loss: -4.9639 - g_loss: 3.5558"
     ]
    },
    {
     "data": {
      "image/png": "[encoded data removed]",
      "text/plain": [
       "<Figure size 864x72 with 12 Axes>"
      ]
     },
     "metadata": {
      "needs_background": "light"
     },
     "output_type": "display_data"
    },
    {
     "name": "stdout",
     "output_type": "stream",
     "text": [
      "image name ./save_images/res_8x8_1.jpg\n",
      "\n",
      "Epoch 00001: saving model to ./ckpts/stylegan_8x8_STABLE.ckpt\n",
      "10000/10000 [==============================] - 340s 34ms/step - d_loss: -4.9639 - g_loss: 3.5560\n",
      "Growing model to 16x16\n",
      " 2355/10000 [======>.......................] - ETA: 9:07 - d_loss: -41.6639 - g_loss: 32.3620"
     ]
    }
   ],
   "source": [
    "START_RES = 4\n",
    "TARGET_RES = 512\n",
    "STEPS_PER_EPOCH = 10000\n",
    "\n",
    "model = StyleGAN(start_res=START_RES, res=TARGET_RES)\n",
    "\n",
    "opt_cfg = {'learning_rate':1e-3, 'beta_1':0.0, 'beta_2':0.99, 'epsilon':1e-8}\n",
    "\n",
    "start_res_log2 = int(np.log2(START_RES))\n",
    "target_res_log2 = int(np.log2(TARGET_RES))\n",
    "for res_log2 in range(start_res_log2, target_res_log2+1):\n",
    "    res = 2**res_log2\n",
    "    for state in ['TRANSITION', 'STABLE']:\n",
    "        if res==START_RES and state=='TRANSITION':\n",
    "            continue\n",
    "\n",
    "        steps = int(TRAIN_STEP_RATIO[res_log2] * STEPS_PER_EPOCH)\n",
    "        model.compile(d_optimizer=Adam(**opt_cfg),\n",
    "                      g_optimizer=Adam(**opt_cfg),\n",
    "                      steps_per_epoch=steps,\n",
    "                      start_res=res,\n",
    "                      state=state,\n",
    "                      run_eagerly=False)\n",
    "\n",
    "        train_ds = create_dataset(res)\n",
    "        \n",
    "        checkpoint_path = f'./ckpts/stylegan_{res}x{res}_{state}.ckpt'\n",
    "        checkpoint_cb = ModelCheckpoint(\n",
    "            filepath=checkpoint_path, \n",
    "            save_weights_only=True, \n",
    "            verbose=1)\n",
    "        \n",
    "        model.fit(train_ds,\n",
    "                  epochs=1, \n",
    "                  steps_per_epoch=steps,\n",
    "                  callbacks=[CustomCallback(), checkpoint_cb])\n"
   ]
  },
  {
   "cell_type": "code",
   "execution_count": 78,
   "metadata": {},
   "outputs": [
    {
     "data": {
      "text/plain": [
       "<tensorflow.python.training.tracking.util.CheckpointLoadStatus at 0x7fbc0d024cf8>"
      ]
     },
     "execution_count": 78,
     "metadata": {},
     "output_type": "execute_result"
    }
   ],
   "source": [
    "model.load_weights('./ckpts/stylegan-0001.ckpt')"
   ]
  },
  {
   "cell_type": "code",
   "execution_count": 76,
   "metadata": {},
   "outputs": [
    {
     "name": "stdout",
     "output_type": "stream",
     "text": [
      "Growing model to 16x16\n"
     ]
    }
   ],
   "source": [
    "model = StyleGAN(start_res=START_RES, res=16)\n",
    "model.grow_model(16)"
   ]
  },
  {
   "cell_type": "code",
   "execution_count": 81,
   "metadata": {},
   "outputs": [
    {
     "data": {
      "image/png": "[encoded data removed]",
      "text/plain": [
       "<Figure size 288x288 with 1 Axes>"
      ]
     },
     "metadata": {
      "needs_background": "light"
     },
     "output_type": "display_data"
    }
   ],
   "source": [
    "images = model.create()\n",
    "\n",
    "plt.figure(figsize=(4,4))\n",
    "for img in images:\n",
    "    plt.imshow(img)\n",
    "    plt.show()\n"
   ]
  },
  {
   "cell_type": "code",
   "execution_count": 20,
   "metadata": {},
   "outputs": [
    {
     "name": "stderr",
     "output_type": "stream",
     "text": [
      "Clipping input data to the valid range for imshow with RGB data ([0..1] for floats or [0..255] for integers).\n"
     ]
    },
    {
     "data": {
      "text/plain": [
       "<matplotlib.image.AxesImage at 0x7fc2243ada20>"
      ]
     },
     "execution_count": 20,
     "metadata": {},
     "output_type": "execute_result"
    },
    {
     "data": {
      "image/png": "[encoded data removed]",
      "text/plain": [
       "<Figure size 432x288 with 1 Axes>"
      ]
     },
     "metadata": {
      "needs_background": "light"
     },
     "output_type": "display_data"
    }
   ],
   "source": [
    "images = next(iter(train_dl))\n",
    "plt.imshow(images[3])"
   ]
  },
  {
   "cell_type": "code",
   "execution_count": 21,
   "metadata": {},
   "outputs": [],
   "source": [
    "class StyleGanSequence(tf.keras.utils.Sequence):\n",
    "    def __init__(self, data_dir, start_res, res, shuffle=True, steps_per_epoch=None):\n",
    "        self.x = glob(data_dir)\n",
    "        self.res = res\n",
    "        self.start_res = start_res\n",
    "        self.current_res = start_res\n",
    "        self.shuffle = shuffle\n",
    "        \n",
    "        self.batch_sizes = {2: 16, \n",
    "                            3: 16, \n",
    "                            4: 16, \n",
    "                            5: 16, \n",
    "                            6: 16, \n",
    "                            7: 8, \n",
    "                            8: 4, \n",
    "                            9: 4, \n",
    "                            10:4}\n",
    "        \n",
    "        max_batch_size = max(batch_sizes.values())\n",
    "        if steps_per_epoch:\n",
    "            num_samples = steps_per_epoch * (max_batch_size + 1)\n",
    "            if num_samples > len(self.x):\n",
    "                self.x = random.choices(self.x, k=num_samples)\n",
    "                \n",
    "        self.num_data = len(self.x)\n",
    "        self.idxs = np.arange(self.num_data)\n",
    "\n",
    "        self.set_batch_size()\n",
    "        \n",
    "        self.states = itertools.cycle(['STABLE', 'TRANSITION'])\n",
    "        self.current_state = next(self.states)\n",
    "        \n",
    "    def __len__(self):\n",
    "        return math.ceil(self.num_data/self.batch_size)\n",
    "    \n",
    "    def __getitem__(self, batch_idx):\n",
    "        start_idx = batch_idx * self.batch_size\n",
    "        stop_idx = min((batch_idx + 1) * self.batch_size, self.num_data)\n",
    "        idxs = self.idxs[start_idx: stop_idx]\n",
    "        images = []\n",
    "        for idx in idxs:\n",
    "            image = Image.open(train_dl.x[idx])\n",
    "            image = image.resize((self.current_res, self.current_res), resample=Image.NEAREST)\n",
    "            image = (np.asarray(image, np.float32)/127.5) - 1\n",
    "            images.append(image)\n",
    "        return np.array(images)\n",
    "        \n",
    "    def set_batch_size(self):\n",
    "        self.batch_size = self.batch_sizes[int(np.log2(self.current_res))]\n",
    "        \n",
    "    def set_current_res(self, res):\n",
    "        self.current_res = res\n",
    "        \n",
    "    def on_epoch_end(self):\n",
    "        self.current_state = next(self.states)\n",
    "        \n",
    "        if self.current_state == 'TRANSITION':\n",
    "            self.current_res = int(2**(np.log2(self.current_res) + 1))            \n",
    "            self.set_batch_size()\n",
    "            \n",
    "            \n"
   ]
  },
  {
   "cell_type": "code",
   "execution_count": null,
   "metadata": {},
   "outputs": [],
   "source": [
    "tf.keras.utils.plot_model(model.discriminator, to_file='model.png',show_shapes=True)"
   ]
  },
  {
   "cell_type": "markdown",
   "metadata": {},
   "source": [
    "## Training. You can skip this step to load pretrained model"
   ]
  },
  {
   "cell_type": "code",
   "execution_count": null,
   "metadata": {
    "scrolled": false
   },
   "outputs": [],
   "source": [
    "gan.train(train_datasets, 10000, 5000)"
   ]
  },
  {
   "cell_type": "markdown",
   "metadata": {},
   "source": [
    "# Uncomment to pre-trained load model\n",
    "Fill in the [form](https://forms.gle/5JiWL6KhFaKknzzV8) to get the download URL."
   ]
  },
  {
   "cell_type": "code",
   "execution_count": null,
   "metadata": {},
   "outputs": [],
   "source": [
    "# Download models\n",
    "'''\n",
    "url = None\n",
    "gdown.download(url, 'checkpoints.zip', quiet=False)\n",
    "!unzip checkpoints.zip -d .\n",
    "'''"
   ]
  },
  {
   "cell_type": "code",
   "execution_count": null,
   "metadata": {},
   "outputs": [],
   "source": [
    "# Load models\n",
    "'''\n",
    "path='./checkpoints/stylegan'\n",
    "gan.load_checkpoint(path)\n",
    "'''"
   ]
  },
  {
   "cell_type": "markdown",
   "metadata": {},
   "source": [
    "# Generate Images"
   ]
  },
  {
   "cell_type": "code",
   "execution_count": null,
   "metadata": {},
   "outputs": [],
   "source": [
    "def generate_image(w, noise):\n",
    "    const_input = tf.ones((1,4,4,512))\n",
    "    w = tf.expand_dims(w, 0)\n",
    "    #noise = tf.expand_dims(noise, 0)\n",
    "    alpha = np.array([[1.]])\n",
    "    images = gan.generator([const_input, w, alpha, noise])\n",
    "    images = np.clip((images*0.5 + 0.5)*255, 0, 255)\n",
    "    return images.astype(np.uint8)"
   ]
  },
  {
   "cell_type": "code",
   "execution_count": null,
   "metadata": {},
   "outputs": [],
   "source": [
    "batch_size = 8\n",
    "z = tf.random.truncated_normal((batch_size, 512))\n",
    "w = gan.mapping(z)\n",
    "noise = gan.generate_noise(batch_size)\n",
    "images = gan.generate(z)\n",
    "plot_images(images, 7)"
   ]
  },
  {
   "cell_type": "markdown",
   "metadata": {},
   "source": [
    "# Style Mixing"
   ]
  },
  {
   "cell_type": "code",
   "execution_count": null,
   "metadata": {},
   "outputs": [],
   "source": [
    "# Select style from above\n",
    "w_a = w[4]\n",
    "w_b = w[5]\n",
    "\n",
    "noise_a = gan.generate_noise(batch_size)\n",
    "image_a = generate_image(w_a, noise_a)[0]\n",
    "noise_b = gan.generate_noise(batch_size)\n",
    "image_b = generate_image(w_b, noise_b)[0]\n"
   ]
  },
  {
   "cell_type": "code",
   "execution_count": null,
   "metadata": {},
   "outputs": [],
   "source": [
    "import ipywidgets as widgets\n",
    "from ipywidgets import interact, interact_manual\n",
    "\n",
    "\n",
    "@interact\n",
    "def explore_latent_variable(w0 = (0,1.0,0.05),\n",
    "                            w1 = (0,1.0,0.05),\n",
    "                            w2 = (0,1.0,0.05),\n",
    "                            w3 = (0,1.0,0.05),\n",
    "                            #w4 = (0,1.0,0.05),\n",
    "                            #w5 = (0,1.0,0.05),\n",
    "                            #w6 = (0,1.0,0.05),\n",
    "                            #w7 = (0,1.0,0.05),\n",
    "                            noise_src = widgets.Select(options=['Left', 'Right'], value='Left', \n",
    "                                                       description='Pose from:')\n",
    "):\n",
    "    w4 = w5 = w6 = w7 = 0.5\n",
    "    w_mix = [w0*w_a[0]+(1-w0)*w_b[0],\n",
    "             w1*w_a[1]+(1-w1)*w_b[1],\n",
    "             w2*w_a[2]+(1-w2)*w_b[2],\n",
    "             w3*w_a[3]+(1-w3)*w_b[3],\n",
    "             w4*w_a[4]+(1-w4)*w_b[4],\n",
    "             w5*w_a[5]+(1-w5)*w_b[5],\n",
    "             w6*w_a[6]+(1-w6)*w_b[6],\n",
    "             w7*w_a[7]+(1-w7)*w_b[7],\n",
    "            ]\n",
    "    noise = noise_a if noise_src == 'Right' else noise_b\n",
    "    image_mix = generate_image(w_mix, noise)[0]\n",
    "    images = np.stack([image_b, image_a, image_mix], axis=0)\n",
    "    plot_images(images, 7)\n",
    "    \n"
   ]
  },
  {
   "cell_type": "markdown",
   "metadata": {},
   "source": [
    "## Same Style, Different Noise"
   ]
  },
  {
   "cell_type": "code",
   "execution_count": null,
   "metadata": {},
   "outputs": [],
   "source": [
    "noise = gan.generate_noise(batch_size)\n",
    "images = generate_image(w[5], noise)\n",
    "plot_images(images, 8)"
   ]
  },
  {
   "cell_type": "code",
   "execution_count": null,
   "metadata": {},
   "outputs": [],
   "source": [
    "tf.keras.utils.plot_model(gan.discriminator, show_shapes=True)"
   ]
  },
  {
   "cell_type": "code",
   "execution_count": null,
   "metadata": {},
   "outputs": [],
   "source": [
    "tf.keras.utils.plot_model(gan.generator, show_shapes=True)"
   ]
  },
  {
   "cell_type": "code",
   "execution_count": null,
   "metadata": {},
   "outputs": [],
   "source": [
    "tf.keras.utils.plot_model(gan.model, show_shapes=True)"
   ]
  }
 ],
 "metadata": {
  "kernelspec": {
   "display_name": "imgentf2",
   "language": "python",
   "name": "imgentf2"
  },
  "language_info": {
   "codemirror_mode": {
    "name": "ipython",
    "version": 3
   },
   "file_extension": ".py",
   "mimetype": "text/x-python",
   "name": "python",
   "nbconvert_exporter": "python",
   "pygments_lexer": "ipython3",
   "version": "3.6.9"
  }
 },
 "nbformat": 4,
 "nbformat_minor": 4
}
